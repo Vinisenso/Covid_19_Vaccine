{
  "nbformat": 4,
  "nbformat_minor": 0,
  "metadata": {
    "colab": {
      "provenance": [],
      "include_colab_link": true
    },
    "kernelspec": {
      "name": "python3",
      "display_name": "Python 3"
    }
  },
  "cells": [
    {
      "cell_type": "markdown",
      "metadata": {
        "id": "view-in-github",
        "colab_type": "text"
      },
      "source": [
        "<a href=\"https://colab.research.google.com/github/Vinisenso/Covid_19_Vaccine/blob/main/MA_2_C%C3%A1lcuo_2.ipynb\" target=\"_parent\"><img src=\"https://colab.research.google.com/assets/colab-badge.svg\" alt=\"Open In Colab\"/></a>"
      ]
    },
    {
      "cell_type": "code",
      "metadata": {
        "id": "CnGpcYiMsC1e"
      },
      "source": [
        "#Integrantes do Grupo - MA2\n",
        "\n",
        "#Gabriel Guimarães Naumes                 RA: 177221 \n",
        "#João Augusto Dantas Camêlo Dos Santos    RA: 237417\n",
        "#Luis Felipe Consentino Nicoleti          RA: 182917     \n",
        "#Pedro Dargham Simionato                  RA: 204512\n",
        "#Vinícius Consentino Muniz                RA: 245271\n"
      ],
      "execution_count": null,
      "outputs": []
    },
    {
      "cell_type": "code",
      "metadata": {
        "colab": {
          "base_uri": "https://localhost:8080/",
          "height": 846
        },
        "id": "VrxdUw059Ikg",
        "outputId": "ccb8da70-09ae-4efc-c4b3-607396a5bf6b"
      },
      "source": [
        "#Seringa:\n",
        "\n",
        "%matplotlib inline   \n",
        "# bibliotecas\n",
        "from mpl_toolkits import mplot3d\n",
        "import numpy as np\n",
        "import matplotlib.pyplot as plt\n",
        "\n",
        "fig = plt.figure(figsize=(5,15))\n",
        "ax = plt.axes(projection='3d')\n",
        "\n",
        "# gota - semiesfera\n",
        "rho = 2   # raio\n",
        "# parâmetros\n",
        "phi = np.linspace(np.pi/2, np.pi, 100)\n",
        "theta = np.linspace(0, 2*np.pi, 100)\n",
        "phi, theta = np.meshgrid(phi, theta)  # cria o domínio D\n",
        "# parametrização\n",
        "x = rho*np.sin(phi)*np.cos(theta) \n",
        "y = rho*np.sin(phi)*np.sin(theta) \n",
        "z = rho*np.cos(phi)\n",
        "# gráfico\n",
        "ax.plot_surface(x, y, z-6, alpha=1, color='blue')\n",
        "\n",
        "# gota - cone\n",
        "a = 50\n",
        "b = 2  # raio\n",
        "c = 6  # Altura\n",
        "# parâmetros\n",
        "theta = np.linspace(0, 2*np.pi, 30)\n",
        "r = np.linspace(0, 1, 30)\n",
        "theta, r = np.meshgrid(theta, r)\n",
        "# parametrização\n",
        "x = b*r*np.cos(theta)\n",
        "y = b*r*np.sin(theta)\n",
        "z = -c*r\n",
        "# gráfico\n",
        "ax.plot_surface(x, y, z, alpha=1, color='blue')\n",
        "\n",
        "# Agulha\n",
        "a = 1    # raio\n",
        "b = 10   # primeiro ponto\n",
        "c = 100   # último ponto\n",
        "# parâmetros\n",
        "theta = np.linspace(0, 2*np.pi, 30)\n",
        "z = np.linspace(b, c, 30)\n",
        "z, theta = np.meshgrid(z, theta)\n",
        "# parametrização\n",
        "x = a*np.cos(theta)\n",
        "y = a*np.sin(theta) \n",
        "z = z # -a*np.sin(theta) + 10*a*np.cos(theta) + 20  # = -y+10*x+20\n",
        "# gráfico\n",
        "ax.plot_surface(x, y, z, alpha=0.6, color='red')\n",
        "\n",
        "# Plano para melhorar a vista:\n",
        "#mesmo se n formos usar, vamos deixar aqui com alpha=0 para dar um comprimento alongado na imagem\n",
        "a = 25\n",
        "e = -25\n",
        "# parâmetros\n",
        "theta = np.linspace(0, 2*np.pi, 30)\n",
        "r = np.linspace(0, a, 30)\n",
        "r, theta = np.meshgrid(r, theta)\n",
        "# parametrização\n",
        "x = r*np.cos(theta)\n",
        "y = r*np.sin(theta)\n",
        "z = e + 0*r\n",
        "# gráfico\n",
        "ax.plot_surface(x, y, z, alpha=0, color='black')\n",
        "\n",
        "# pino entre agulha e seringa\n",
        "a = 2    # raio\n",
        "b = 100   # primeiro ponto\n",
        "c = 110   # último ponto\n",
        "# parâmetros\n",
        "theta = np.linspace(0, 2*np.pi, 30)\n",
        "z = np.linspace(b, c, 30)\n",
        "z, theta = np.meshgrid(z, theta)\n",
        "# parametrização\n",
        "x = a*np.cos(theta)\n",
        "y = a*np.sin(theta) \n",
        "z = z \n",
        "# gráfico\n",
        "ax.plot_surface(x, y, z, alpha=0.6, color='green')\n",
        "\n",
        "#seringa\n",
        "a = 6    # raio\n",
        "b = 110   # primeiro ponto\n",
        "c = 210   # último ponto\n",
        "# parâmetros\n",
        "theta = np.linspace(0, 2*np.pi, 30)\n",
        "z = np.linspace(b, c, 30)\n",
        "z, theta = np.meshgrid(z, theta)\n",
        "# parametrização\n",
        "x = a*np.cos(theta)\n",
        "y = a*np.sin(theta) \n",
        "z = z \n",
        "# gráfico\n",
        "ax.plot_surface(x, y, z, alpha=0.6, color='blue')\n",
        "\n",
        "#seringa\n",
        "a = 2    # raio\n",
        "b = 210   # primeiro ponto\n",
        "c = 320   # último ponto\n",
        "# parâmetros\n",
        "theta = np.linspace(0, 2*np.pi, 30)\n",
        "z = np.linspace(b, c, 30)\n",
        "z, theta = np.meshgrid(z, theta)\n",
        "# parametrização\n",
        "x = a*np.cos(theta)\n",
        "y = a*np.sin(theta) \n",
        "z = z \n",
        "# gráfico\n",
        "ax.plot_surface(x, y, z, alpha=0.6, color='yellow')\n",
        "\n",
        "# hiperbolóide para o top da seriga\n",
        "a = 2\n",
        "# parâmetros\n",
        "theta = np.linspace(0, 2*np.pi, 30)\n",
        "v = np.linspace(0, 1, 30)\n",
        "theta, v = np.meshgrid(theta, v)\n",
        "# parametrização\n",
        "x = a*np.cos(theta)*np.cosh(v)\n",
        "y = a*np.sin(theta)*np.cosh(v)\n",
        "z = (a**2)*np.sinh(v)\n",
        "# gráfico\n",
        "ax.plot_surface(x, y, z+320, alpha=0.6, color='black')\n",
        "\n",
        "#topo\n",
        "a = 7    # raio\n",
        "b = 324   # primeiro ponto\n",
        "c = 330   # último ponto\n",
        "# parâmetros\n",
        "theta = np.linspace(0, 2*np.pi, 30)\n",
        "z = np.linspace(b, c, 30)\n",
        "z, theta = np.meshgrid(z, theta)\n",
        "# parametrização\n",
        "x = a*np.cos(theta)\n",
        "y = a*np.sin(theta) \n",
        "z = z \n",
        "# gráfico\n",
        "ax.plot_surface(x, y, z, alpha=0.6, color='purple')\n",
        "\n",
        "#planos - de cima para baixo:\n",
        "\n",
        "#plano 1\n",
        "a = 7\n",
        "e = 330\n",
        "# parâmetros\n",
        "theta = np.linspace(0, 2*np.pi, 30)\n",
        "r = np.linspace(0, a, 30)\n",
        "r, theta = np.meshgrid(r, theta)\n",
        "# parametrização\n",
        "x = r*np.cos(theta)\n",
        "y = r*np.sin(theta)\n",
        "z = e + 0*r\n",
        "# gráfico\n",
        "ax.plot_surface(x, y, z, alpha=0.4, color='black')\n",
        "\n",
        "#plano 2\n",
        "a = 7\n",
        "e = 324\n",
        "# parâmetros\n",
        "theta = np.linspace(0, 2*np.pi, 30)\n",
        "r = np.linspace(0, a, 30)\n",
        "r, theta = np.meshgrid(r, theta)\n",
        "# parametrização\n",
        "x = r*np.cos(theta)\n",
        "y = r*np.sin(theta)\n",
        "z = e + 0*r\n",
        "# gráfico\n",
        "ax.plot_surface(x, y, z, alpha=0.4, color='black')\n",
        "\n",
        "#plano 3\n",
        "a = 6\n",
        "e = 210\n",
        "# parâmetros\n",
        "theta = np.linspace(0, 2*np.pi, 30)\n",
        "r = np.linspace(0, a, 30)\n",
        "r, theta = np.meshgrid(r, theta)\n",
        "# parametrização\n",
        "x = r*np.cos(theta)\n",
        "y = r*np.sin(theta)\n",
        "z = e + 0*r\n",
        "# gráfico\n",
        "ax.plot_surface(x, y, z, alpha=0.1, color='white')\n",
        "\n",
        "#plano 4\n",
        "a = 6\n",
        "e = 110\n",
        "# parâmetros\n",
        "theta = np.linspace(0, 2*np.pi, 30)\n",
        "r = np.linspace(0, a, 30)\n",
        "r, theta = np.meshgrid(r, theta)\n",
        "# parametrização\n",
        "x = r*np.cos(theta)\n",
        "y = r*np.sin(theta)\n",
        "z = e + 0*r\n",
        "# gráfico\n",
        "ax.plot_surface(x, y, z, alpha=1, color='white')\n",
        "\n",
        "#plano 5\n",
        "a = 2\n",
        "e = 100\n",
        "# parâmetros\n",
        "theta = np.linspace(0, 2*np.pi, 30)\n",
        "r = np.linspace(0, a, 30)\n",
        "r, theta = np.meshgrid(r, theta)\n",
        "# parametrização\n",
        "x = r*np.cos(theta)\n",
        "y = r*np.sin(theta)\n",
        "z = e + 0*r\n",
        "# gráfico\n",
        "ax.plot_surface(x, y, z, alpha=1, color='black')\n",
        "\n",
        "# título\n",
        "plt.title(\"Vacina do Coronga - 2021\")\n",
        "# remove marcações nos eixos x, y, z\n",
        "# ax.set_xticks([])  # comentar para montar teu desenho: visualizar os eixos torna a criação mais fácil\n",
        "# ax.set_yticks([])  # comentar para montar teu desenho: visualizar os eixos torna a criação mais fácil\n",
        "# ax.set_zticks([])  # comentar para montar teu desenho: visualizar os eixos torna a criação mais fácil\n",
        "\n",
        "# ângulo de visualização\n",
        "ax.view_init(0, 240)\n",
        "\n",
        "\n",
        "\n",
        "\n"
      ],
      "execution_count": null,
      "outputs": [
        {
          "output_type": "display_data",
          "data": {
            "image/png": "[encoded data removed]",
            "text/plain": [
              "<Figure size 360x1080 with 1 Axes>"
            ]
          },
          "metadata": {
            "tags": [],
            "needs_background": "light"
          }
        }
      ]
    },
    {
      "cell_type": "code",
      "metadata": {
        "colab": {
          "base_uri": "https://localhost:8080/"
        },
        "id": "5DL4Xbngt5Sm",
        "outputId": "36275e7c-2a46-4157-f0a9-991433526a2f"
      },
      "source": [
        "#Calculo do cone da gota:\n",
        "import numpy as np\n",
        "# norma do produto vetorial: |ru x rv| avaliada no ponto (ui, vj) da discretização\n",
        "# (u, v): parâmetros da parametrização da superfície\n",
        "# (u, v): (theta, v)     \n",
        "def Norma_Produto_Vetorial(theta, v):  \n",
        "    return v*np.sqrt(160)\n",
        "\n",
        "# Definir o domínio D (retangular)\n",
        "# variação do u (theta)\n",
        "a = 0\n",
        "b = 2*np.pi\n",
        "# variação do v \n",
        "c = 0\n",
        "d = 1\n",
        "\n",
        "# discretização\n",
        "n = 100\n",
        "m = 100\n",
        "deltau = (b-a)/n\n",
        "deltav = (d-c)/m\n",
        "\n",
        "# cria um arranjo de números\n",
        "# np.arange(minimo, maximo, passo)\n",
        "# começa em \"minimo\" vai até < \"máximo\", de passo em passo \n",
        "u = np.arange(a, b+deltau, deltau)  # mínimo, máximo, passo\n",
        "v = np.arange(c, d+deltav, deltav)  # mínimo, máximo, passo\n",
        "\n",
        "# cálculo da área: soma dupla -> 2 for aninhados\n",
        "area = 0\n",
        "for i in range(n):       # primeiro somatório\n",
        "    ponto_medio_u = (u[i] + u[i+1])/2\n",
        "    for j in range(m):   # segundo somatório\n",
        "        ponto_medio_v = (v[j] + v[j+1])/2\n",
        "        npv = Norma_Produto_Vetorial(ponto_medio_u, ponto_medio_v)\n",
        "        area = area + npv*deltau*deltav\n",
        "print(\"Área da superfície S: %.2f\" %area)"
      ],
      "execution_count": null,
      "outputs": [
        {
          "output_type": "stream",
          "text": [
            "Área da superfície S: 39.74\n"
          ],
          "name": "stdout"
        }
      ]
    },
    {
      "cell_type": "code",
      "metadata": {
        "colab": {
          "base_uri": "https://localhost:8080/"
        },
        "id": "Jn1JU4wtyF0G",
        "outputId": "bbe036cc-7b49-42dd-dc9e-fc4d8b6ce3ae"
      },
      "source": [
        "# Conferir a área do cone da gota:\n",
        "import sympy as sp\n",
        "\n",
        "f, t = sp.symbols('f t')   # z e theta\n",
        "\n",
        "areaS = sp.integrate(sp.integrate(f*sp.sqrt(160), (f,0,1)), (t,0,2*sp.pi))\n",
        "print(\"Área da superfície S: %.2f\" %areaS)\n"
      ],
      "execution_count": null,
      "outputs": [
        {
          "output_type": "stream",
          "text": [
            "Área da superfície S: 39.74\n"
          ],
          "name": "stdout"
        }
      ]
    },
    {
      "cell_type": "code",
      "metadata": {
        "colab": {
          "base_uri": "https://localhost:8080/"
        },
        "id": "YqjHrI5aaO9A",
        "outputId": "d51799d3-36fd-4df9-e65a-d6efcbc952f1"
      },
      "source": [
        "#Calculo da area do cilindro azul:\n",
        "import numpy as np\n",
        "# norma do produto vetorial: |ru x rv| avaliada no ponto (ui, vj) da discretização\n",
        "# (u, v): parâmetros da parametrização da superfície\n",
        "# (u, v): (z, theta)\n",
        "# A norma do produto vetorial entre as derivadas direcionais em theta e z da função paramétrica do cilindro é sempre 6.\n",
        "def Norma_Produto_Vetorial(z, theta):  \n",
        "    return 6 \n",
        "\n",
        "# Definir o domínio D (retangular)\n",
        "# variação do u (z)\n",
        "a = 110\n",
        "b = 210\n",
        "# variação do v (theta)\n",
        "c = 0\n",
        "d = 2*np.pi\n",
        "\n",
        "# discretização\n",
        "n = 100\n",
        "m = 100\n",
        "deltau = (b-a)/n\n",
        "deltav = (d-c)/m\n",
        "\n",
        "# cria um arranjo de números\n",
        "# np.arange(minimo, maximo, passo)\n",
        "# começa em \"minimo\" vai até < \"máximo\", de passo em passo \n",
        "u = np.arange(a, b+deltau, deltau)  # mínimo, máximo, passo\n",
        "v = np.arange(c, d+deltav, deltav)  # mínimo, máximo, passo\n",
        "\n",
        "# cálculo da área: soma dupla -> 2 for aninhados\n",
        "area = 0\n",
        "for i in range(n):       # primeiro somatório\n",
        "    ponto_medio_u = (u[i] + u[i+1])/2\n",
        "    for j in range(m):   # segundo somatório\n",
        "        ponto_medio_v = (v[j] + v[j+1])/2\n",
        "        npv = Norma_Produto_Vetorial(ponto_medio_u, ponto_medio_v)\n",
        "        area = area + npv*deltau*deltav\n",
        "print(\"Área da superfície S: %.2f\" %area)"
      ],
      "execution_count": null,
      "outputs": [
        {
          "output_type": "stream",
          "text": [
            "Área da superfície S: 3769.91\n"
          ],
          "name": "stdout"
        }
      ]
    },
    {
      "cell_type": "code",
      "metadata": {
        "colab": {
          "base_uri": "https://localhost:8080/"
        },
        "id": "M8EK72nlaUdf",
        "outputId": "336a4710-42c0-49d2-f910-8d879e75bd47"
      },
      "source": [
        "# Conferir a área do cilindro azul:\n",
        "import sympy as sp\n",
        "\n",
        "f, t = sp.symbols('f t')   # z e theta\n",
        "\n",
        "areaS = sp.integrate(sp.integrate(6, (f,110,210)), (t,0,2*sp.pi))\n",
        "print(\"Área da superfície S: %.2f\" %areaS)\n"
      ],
      "execution_count": null,
      "outputs": [
        {
          "output_type": "stream",
          "text": [
            "Área da superfície S: 3769.91\n"
          ],
          "name": "stdout"
        }
      ]
    },
    {
      "cell_type": "code",
      "metadata": {
        "id": "Onuqh1dtGAm_",
        "colab": {
          "base_uri": "https://localhost:8080/"
        },
        "outputId": "aa57d94d-f93f-4dd4-ee9a-fbbf52d31391"
      },
      "source": [
        "#Cálculo EXTRA da área do cilindro amarelo:\n",
        "import numpy as np\n",
        "# norma do produto vetorial: |ru x rv| avaliada no ponto (ui, vj) da discretização\n",
        "# (u, v): parâmetros da parametrização da superfície\n",
        "# (u, v): (z, theta)\n",
        "# A norma do produto vetorial entre as derivadas direcionais em theta e z da função paramétrica do cilindro é sempre 2.\n",
        "def Norma_Produto_Vetorial(z, theta):  \n",
        "    return 2\n",
        "\n",
        "# Definir o domínio D (retangular)\n",
        "# variação do u (z)\n",
        "a = 210\n",
        "b = 320\n",
        "# variação do v (theta)\n",
        "c = 0\n",
        "d = 2*np.pi\n",
        "\n",
        "# discretização\n",
        "n = 100\n",
        "m = 100\n",
        "deltau = (b-a)/n\n",
        "deltav = (d-c)/m\n",
        "\n",
        "# cria um arranjo de números\n",
        "# np.arange(minimo, maximo, passo)\n",
        "# começa em \"minimo\" vai até < \"máximo\", de passo em passo \n",
        "u = np.arange(a, b+deltau, deltau)  # mínimo, máximo, passo\n",
        "v = np.arange(c, d+deltav, deltav)  # mínimo, máximo, passo\n",
        "\n",
        "# cálculo da área: soma dupla -> 2 for aninhados\n",
        "area = 0\n",
        "for i in range(n):       # primeiro somatório\n",
        "    ponto_medio_u = (u[i] + u[i+1])/2\n",
        "    for j in range(m):   # segundo somatório\n",
        "        ponto_medio_v = (v[j] + v[j+1])/2\n",
        "        npv = Norma_Produto_Vetorial(ponto_medio_u, ponto_medio_v)\n",
        "        area = area + npv*deltau*deltav\n",
        "print(\"Área da superfície S: %.2f\" %area)\n",
        "\n"
      ],
      "execution_count": null,
      "outputs": [
        {
          "output_type": "stream",
          "text": [
            "Área da superfície S: 1382.30\n"
          ],
          "name": "stdout"
        }
      ]
    },
    {
      "cell_type": "code",
      "metadata": {
        "colab": {
          "base_uri": "https://localhost:8080/"
        },
        "id": "qDIzah2_JeBS",
        "outputId": "1ddb76ed-0907-416e-e23f-87949fe13969"
      },
      "source": [
        "# Conferir a área do cilindro amarelo:\n",
        "import sympy as sp\n",
        "\n",
        "f, t = sp.symbols('f t')   # z e theta\n",
        "\n",
        "areaS = sp.integrate(sp.integrate(2, (f,210,320)), (t,0,2*sp.pi))\n",
        "print(\"Área da superfície S: %.2f\" %areaS)"
      ],
      "execution_count": null,
      "outputs": [
        {
          "output_type": "stream",
          "text": [
            "Área da superfície S: 1382.30\n"
          ],
          "name": "stdout"
        }
      ]
    },
    {
      "cell_type": "code",
      "metadata": {
        "colab": {
          "base_uri": "https://localhost:8080/"
        },
        "id": "ZvPZsNej3JI7",
        "outputId": "b72d6e25-05ac-4b9c-ea1e-0a220b19182d"
      },
      "source": [
        "#Calculo EXTRA do hiperboloide:\n",
        "import numpy as np\n",
        "# norma do produto vetorial: |ru x rv| avaliada no ponto (ui, vj) da discretização\n",
        "# (u, v): parâmetros da parametrização da superfície\n",
        "# (u, v): (theta, v)     \n",
        "def Norma_Produto_Vetorial(theta, v):  \n",
        "    return np.sqrt((64*(np.cosh(v))**4+16*((np.cosh(v))**2)*(np.sinh(v))**2))\n",
        "\n",
        "# Definir o domínio D (retangular)\n",
        "# variação do u (theta)\n",
        "a = 0\n",
        "b = 2*np.pi\n",
        "# variação do v \n",
        "c = 0\n",
        "d = 1\n",
        "\n",
        "# discretização\n",
        "n = 100\n",
        "m = 100\n",
        "deltau = (b-a)/n\n",
        "deltav = (d-c)/m\n",
        "\n",
        "# cria um arranjo de números\n",
        "# np.arange(minimo, maximo, passo)\n",
        "# começa em \"minimo\" vai até < \"máximo\", de passo em passo \n",
        "u = np.arange(a, b+deltau, deltau)  # mínimo, máximo, passo\n",
        "v = np.arange(c, d+deltav, deltav)  # mínimo, máximo, passo\n",
        "\n",
        "# cálculo da área: soma dupla -> 2 for aninhados\n",
        "area = 0\n",
        "for i in range(n):       # primeiro somatório\n",
        "    ponto_medio_u = (u[i] + u[i+1])/2\n",
        "    for j in range(m):   # segundo somatório\n",
        "        ponto_medio_v = (v[j] + v[j+1])/2\n",
        "        npv = Norma_Produto_Vetorial(ponto_medio_u, ponto_medio_v)\n",
        "        area = area + npv*deltau*deltav\n",
        "print(\"Área da superfície S: %.2f\" %area)"
      ],
      "execution_count": null,
      "outputs": [
        {
          "output_type": "stream",
          "text": [
            "Área da superfície S: 73.20\n"
          ],
          "name": "stdout"
        }
      ]
    },
    {
      "cell_type": "code",
      "metadata": {
        "id": "hdnvGMyN3TOS"
      },
      "source": [
        "# Hiperboloide não tem antiderivada:\n",
        "import sympy as sp\n",
        "\n",
        "f,t = sp.symbols('f t')   # v e theta\n",
        "\n",
        "areaS = sp.integrate(sp.integrate(sp.sqrt(64*(sp.cosh(f))**4+16*((sp.cosh(f))**2)*(sp.sinh(f))**2), (f,0,1)), (t,0,2*sp.pi))\n",
        "print(\"Área da superfície S: %.2f\" %areaS)"
      ],
      "execution_count": null,
      "outputs": []
    }
  ]
}